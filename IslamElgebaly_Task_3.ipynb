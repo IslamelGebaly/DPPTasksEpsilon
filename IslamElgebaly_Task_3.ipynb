{
  "cells": [
    {
      "cell_type": "markdown",
      "metadata": {
        "id": "view-in-github",
        "colab_type": "text"
      },
      "source": [
        "<a href=\"https://colab.research.google.com/github/IslamelGebaly/DPPTasksEpsilon/blob/main/IslamElgebaly_Task_3.ipynb\" target=\"_parent\"><img src=\"https://colab.research.google.com/assets/colab-badge.svg\" alt=\"Open In Colab\"/></a>"
      ]
    },
    {
      "cell_type": "markdown",
      "metadata": {
        "id": "fXP6Jk1yuRxK"
      },
      "source": [
        "# you are working for a company that handling emails so your manager askes you to see the most domain that recieves emails"
      ]
    },
    {
      "cell_type": "markdown",
      "metadata": {
        "id": "6A7WCjzzDlpV"
      },
      "source": [
        "> Dataset : Enron_email_threads_updated.csv"
      ]
    },
    {
      "cell_type": "code",
      "source": [
        "import pandas as pd\n",
        "import numpy as np"
      ],
      "metadata": {
        "id": "QwXAKXBjEzw9"
      },
      "execution_count": 1,
      "outputs": []
    },
    {
      "cell_type": "code",
      "source": [
        "from google.colab import drive\n",
        "drive.mount('/content/drive')"
      ],
      "metadata": {
        "colab": {
          "base_uri": "https://localhost:8080/"
        },
        "id": "TDP0w3-HE5q5",
        "outputId": "22b317fa-fc50-4974-f946-1d31004b664e"
      },
      "execution_count": 2,
      "outputs": [
        {
          "output_type": "stream",
          "name": "stdout",
          "text": [
            "Mounted at /content/drive\n"
          ]
        }
      ]
    },
    {
      "cell_type": "code",
      "source": [
        "df = pd.read_csv(\"drive/MyDrive/Datasets/Enron_email_threads_updated.csv\", encoding=\"utf-16\", sep = \"\\t\")"
      ],
      "metadata": {
        "id": "TnKcs9L3FLgc"
      },
      "execution_count": 6,
      "outputs": []
    },
    {
      "cell_type": "code",
      "source": [
        "df.sample(10)"
      ],
      "metadata": {
        "colab": {
          "base_uri": "https://localhost:8080/",
          "height": 581
        },
        "id": "FxpnLCyjFbnz",
        "outputId": "373300a6-cac2-49c1-c91d-8efde96d12df"
      },
      "execution_count": 7,
      "outputs": [
        {
          "output_type": "execute_result",
          "data": {
            "text/plain": [
              "                    TID              MID                          From  \\\n",
              "189     e9a0af58b533807  e9a0af58b533807        scott.coburn@enron.com   \n",
              "68061   e9b9961201989e4  e9b9961201989e4   bstephen@academicplanet.com   \n",
              "162942  e9ef1454897b61d  e9ef1454897b61d       lorna.brennan@enron.com   \n",
              "309816  ea6a499f52de907  ea6a499f046cb53      ginger.dernehl@enron.com   \n",
              "264593  ea0cab24cec5376  ea0dbafe7c7ba85  kenneth.thibodeaux@enron.com   \n",
              "25588   e9a097e9578b92b  e9a097e82558eb8           jae.black@enron.com   \n",
              "393648  ea3196e91e4b6d1  ea3196e80db2c38           l..denton@enron.com   \n",
              "175215  e94b199ac44abc2  e94b199ac44abc2         kysa.alport@enron.com   \n",
              "324367  ea6fc6e107c04fc  ea6fc6e1bf07ca2          ruby.kyser@enron.com   \n",
              "53161   e9b56f356785a9b  e9b56f34219c87a     victoria.versen@enron.com   \n",
              "\n",
              "                                TO                  Timestamp Type  \n",
              "189          mark.begley@enron.com  2001-10-18T09:40:26-07:00  BCC  \n",
              "68061       smithadria@hotmail.com  2001-10-23T05:43:20-07:00   TO  \n",
              "162942   martha.janousek@enron.com  2001-11-02T14:01:07-08:00   TO  \n",
              "309816   llewelyn.hughes@enron.com  2001-11-26T12:12:37-08:00   TO  \n",
              "264593      john.swinney@enron.com  2001-11-08T12:51:46-08:00   TO  \n",
              "25588      ted.ballinger@enron.com  2001-10-18T09:14:50-07:00   TO  \n",
              "393648      ryan.slinger@enron.com  2001-11-15T11:58:41-08:00   TO  \n",
              "175215  holden.salisbury@enron.com  2001-10-01T18:49:09-07:00   TO  \n",
              "324367    willie.stewart@enron.com  2001-11-27T13:47:32-08:00   TO  \n",
              "53161     kimberly.bates@enron.com  2001-10-22T10:22:24-07:00   TO  "
            ],
            "text/html": [
              "\n",
              "  <div id=\"df-233243d4-e3e9-4619-b777-0fef9cd60496\">\n",
              "    <div class=\"colab-df-container\">\n",
              "      <div>\n",
              "<style scoped>\n",
              "    .dataframe tbody tr th:only-of-type {\n",
              "        vertical-align: middle;\n",
              "    }\n",
              "\n",
              "    .dataframe tbody tr th {\n",
              "        vertical-align: top;\n",
              "    }\n",
              "\n",
              "    .dataframe thead th {\n",
              "        text-align: right;\n",
              "    }\n",
              "</style>\n",
              "<table border=\"1\" class=\"dataframe\">\n",
              "  <thead>\n",
              "    <tr style=\"text-align: right;\">\n",
              "      <th></th>\n",
              "      <th>TID</th>\n",
              "      <th>MID</th>\n",
              "      <th>From</th>\n",
              "      <th>TO</th>\n",
              "      <th>Timestamp</th>\n",
              "      <th>Type</th>\n",
              "    </tr>\n",
              "  </thead>\n",
              "  <tbody>\n",
              "    <tr>\n",
              "      <th>189</th>\n",
              "      <td>e9a0af58b533807</td>\n",
              "      <td>e9a0af58b533807</td>\n",
              "      <td>scott.coburn@enron.com</td>\n",
              "      <td>mark.begley@enron.com</td>\n",
              "      <td>2001-10-18T09:40:26-07:00</td>\n",
              "      <td>BCC</td>\n",
              "    </tr>\n",
              "    <tr>\n",
              "      <th>68061</th>\n",
              "      <td>e9b9961201989e4</td>\n",
              "      <td>e9b9961201989e4</td>\n",
              "      <td>bstephen@academicplanet.com</td>\n",
              "      <td>smithadria@hotmail.com</td>\n",
              "      <td>2001-10-23T05:43:20-07:00</td>\n",
              "      <td>TO</td>\n",
              "    </tr>\n",
              "    <tr>\n",
              "      <th>162942</th>\n",
              "      <td>e9ef1454897b61d</td>\n",
              "      <td>e9ef1454897b61d</td>\n",
              "      <td>lorna.brennan@enron.com</td>\n",
              "      <td>martha.janousek@enron.com</td>\n",
              "      <td>2001-11-02T14:01:07-08:00</td>\n",
              "      <td>TO</td>\n",
              "    </tr>\n",
              "    <tr>\n",
              "      <th>309816</th>\n",
              "      <td>ea6a499f52de907</td>\n",
              "      <td>ea6a499f046cb53</td>\n",
              "      <td>ginger.dernehl@enron.com</td>\n",
              "      <td>llewelyn.hughes@enron.com</td>\n",
              "      <td>2001-11-26T12:12:37-08:00</td>\n",
              "      <td>TO</td>\n",
              "    </tr>\n",
              "    <tr>\n",
              "      <th>264593</th>\n",
              "      <td>ea0cab24cec5376</td>\n",
              "      <td>ea0dbafe7c7ba85</td>\n",
              "      <td>kenneth.thibodeaux@enron.com</td>\n",
              "      <td>john.swinney@enron.com</td>\n",
              "      <td>2001-11-08T12:51:46-08:00</td>\n",
              "      <td>TO</td>\n",
              "    </tr>\n",
              "    <tr>\n",
              "      <th>25588</th>\n",
              "      <td>e9a097e9578b92b</td>\n",
              "      <td>e9a097e82558eb8</td>\n",
              "      <td>jae.black@enron.com</td>\n",
              "      <td>ted.ballinger@enron.com</td>\n",
              "      <td>2001-10-18T09:14:50-07:00</td>\n",
              "      <td>TO</td>\n",
              "    </tr>\n",
              "    <tr>\n",
              "      <th>393648</th>\n",
              "      <td>ea3196e91e4b6d1</td>\n",
              "      <td>ea3196e80db2c38</td>\n",
              "      <td>l..denton@enron.com</td>\n",
              "      <td>ryan.slinger@enron.com</td>\n",
              "      <td>2001-11-15T11:58:41-08:00</td>\n",
              "      <td>TO</td>\n",
              "    </tr>\n",
              "    <tr>\n",
              "      <th>175215</th>\n",
              "      <td>e94b199ac44abc2</td>\n",
              "      <td>e94b199ac44abc2</td>\n",
              "      <td>kysa.alport@enron.com</td>\n",
              "      <td>holden.salisbury@enron.com</td>\n",
              "      <td>2001-10-01T18:49:09-07:00</td>\n",
              "      <td>TO</td>\n",
              "    </tr>\n",
              "    <tr>\n",
              "      <th>324367</th>\n",
              "      <td>ea6fc6e107c04fc</td>\n",
              "      <td>ea6fc6e1bf07ca2</td>\n",
              "      <td>ruby.kyser@enron.com</td>\n",
              "      <td>willie.stewart@enron.com</td>\n",
              "      <td>2001-11-27T13:47:32-08:00</td>\n",
              "      <td>TO</td>\n",
              "    </tr>\n",
              "    <tr>\n",
              "      <th>53161</th>\n",
              "      <td>e9b56f356785a9b</td>\n",
              "      <td>e9b56f34219c87a</td>\n",
              "      <td>victoria.versen@enron.com</td>\n",
              "      <td>kimberly.bates@enron.com</td>\n",
              "      <td>2001-10-22T10:22:24-07:00</td>\n",
              "      <td>TO</td>\n",
              "    </tr>\n",
              "  </tbody>\n",
              "</table>\n",
              "</div>\n",
              "      <button class=\"colab-df-convert\" onclick=\"convertToInteractive('df-233243d4-e3e9-4619-b777-0fef9cd60496')\"\n",
              "              title=\"Convert this dataframe to an interactive table.\"\n",
              "              style=\"display:none;\">\n",
              "        \n",
              "  <svg xmlns=\"http://www.w3.org/2000/svg\" height=\"24px\"viewBox=\"0 0 24 24\"\n",
              "       width=\"24px\">\n",
              "    <path d=\"M0 0h24v24H0V0z\" fill=\"none\"/>\n",
              "    <path d=\"M18.56 5.44l.94 2.06.94-2.06 2.06-.94-2.06-.94-.94-2.06-.94 2.06-2.06.94zm-11 1L8.5 8.5l.94-2.06 2.06-.94-2.06-.94L8.5 2.5l-.94 2.06-2.06.94zm10 10l.94 2.06.94-2.06 2.06-.94-2.06-.94-.94-2.06-.94 2.06-2.06.94z\"/><path d=\"M17.41 7.96l-1.37-1.37c-.4-.4-.92-.59-1.43-.59-.52 0-1.04.2-1.43.59L10.3 9.45l-7.72 7.72c-.78.78-.78 2.05 0 2.83L4 21.41c.39.39.9.59 1.41.59.51 0 1.02-.2 1.41-.59l7.78-7.78 2.81-2.81c.8-.78.8-2.07 0-2.86zM5.41 20L4 18.59l7.72-7.72 1.47 1.35L5.41 20z\"/>\n",
              "  </svg>\n",
              "      </button>\n",
              "      \n",
              "  <style>\n",
              "    .colab-df-container {\n",
              "      display:flex;\n",
              "      flex-wrap:wrap;\n",
              "      gap: 12px;\n",
              "    }\n",
              "\n",
              "    .colab-df-convert {\n",
              "      background-color: #E8F0FE;\n",
              "      border: none;\n",
              "      border-radius: 50%;\n",
              "      cursor: pointer;\n",
              "      display: none;\n",
              "      fill: #1967D2;\n",
              "      height: 32px;\n",
              "      padding: 0 0 0 0;\n",
              "      width: 32px;\n",
              "    }\n",
              "\n",
              "    .colab-df-convert:hover {\n",
              "      background-color: #E2EBFA;\n",
              "      box-shadow: 0px 1px 2px rgba(60, 64, 67, 0.3), 0px 1px 3px 1px rgba(60, 64, 67, 0.15);\n",
              "      fill: #174EA6;\n",
              "    }\n",
              "\n",
              "    [theme=dark] .colab-df-convert {\n",
              "      background-color: #3B4455;\n",
              "      fill: #D2E3FC;\n",
              "    }\n",
              "\n",
              "    [theme=dark] .colab-df-convert:hover {\n",
              "      background-color: #434B5C;\n",
              "      box-shadow: 0px 1px 3px 1px rgba(0, 0, 0, 0.15);\n",
              "      filter: drop-shadow(0px 1px 2px rgba(0, 0, 0, 0.3));\n",
              "      fill: #FFFFFF;\n",
              "    }\n",
              "  </style>\n",
              "\n",
              "      <script>\n",
              "        const buttonEl =\n",
              "          document.querySelector('#df-233243d4-e3e9-4619-b777-0fef9cd60496 button.colab-df-convert');\n",
              "        buttonEl.style.display =\n",
              "          google.colab.kernel.accessAllowed ? 'block' : 'none';\n",
              "\n",
              "        async function convertToInteractive(key) {\n",
              "          const element = document.querySelector('#df-233243d4-e3e9-4619-b777-0fef9cd60496');\n",
              "          const dataTable =\n",
              "            await google.colab.kernel.invokeFunction('convertToInteractive',\n",
              "                                                     [key], {});\n",
              "          if (!dataTable) return;\n",
              "\n",
              "          const docLinkHtml = 'Like what you see? Visit the ' +\n",
              "            '<a target=\"_blank\" href=https://colab.research.google.com/notebooks/data_table.ipynb>data table notebook</a>'\n",
              "            + ' to learn more about interactive tables.';\n",
              "          element.innerHTML = '';\n",
              "          dataTable['output_type'] = 'display_data';\n",
              "          await google.colab.output.renderOutput(dataTable, element);\n",
              "          const docLink = document.createElement('div');\n",
              "          docLink.innerHTML = docLinkHtml;\n",
              "          element.appendChild(docLink);\n",
              "        }\n",
              "      </script>\n",
              "    </div>\n",
              "  </div>\n",
              "  "
            ]
          },
          "metadata": {},
          "execution_count": 7
        }
      ]
    },
    {
      "cell_type": "code",
      "source": [
        "df[\"TO\"].isna().sum()"
      ],
      "metadata": {
        "colab": {
          "base_uri": "https://localhost:8080/"
        },
        "id": "RLXNv4JhGG3o",
        "outputId": "0c9a4dd1-53f1-4fe0-d43f-aef976103867"
      },
      "execution_count": 10,
      "outputs": [
        {
          "output_type": "execute_result",
          "data": {
            "text/plain": [
              "2"
            ]
          },
          "metadata": {},
          "execution_count": 10
        }
      ]
    },
    {
      "cell_type": "code",
      "source": [
        "def extract_domain(x):\n",
        "  try: return x.split(\"@\")[1]\n",
        "  except: return np.nan"
      ],
      "metadata": {
        "id": "FBXASSgSGe9T"
      },
      "execution_count": 12,
      "outputs": []
    },
    {
      "cell_type": "code",
      "source": [
        "df[\"domain\"] = df[\"TO\"].apply(extract_domain)\n",
        "df[\"domain\"].sample(10)"
      ],
      "metadata": {
        "colab": {
          "base_uri": "https://localhost:8080/"
        },
        "id": "PoqatVKtFvj8",
        "outputId": "c722a016-5d6f-4a89-946e-e0ac551f9634"
      },
      "execution_count": 13,
      "outputs": [
        {
          "output_type": "execute_result",
          "data": {
            "text/plain": [
              "372773    enron.com\n",
              "99090     enron.com\n",
              "345137    enron.com\n",
              "421180    enron.com\n",
              "95268     enron.com\n",
              "332821    enron.com\n",
              "76295     enron.com\n",
              "179806    enron.com\n",
              "235330    enron.com\n",
              "416265    enron.com\n",
              "Name: domain, dtype: object"
            ]
          },
          "metadata": {},
          "execution_count": 13
        }
      ]
    },
    {
      "cell_type": "code",
      "source": [
        "df.groupby(\"domain\").count()[\"TID\"].sort_values(ascending = False).head(1)"
      ],
      "metadata": {
        "colab": {
          "base_uri": "https://localhost:8080/"
        },
        "id": "ba8eLZ5FG0Jy",
        "outputId": "c30310fa-c4de-4701-f3d1-da73ab4b357a"
      },
      "execution_count": 16,
      "outputs": [
        {
          "output_type": "execute_result",
          "data": {
            "text/plain": [
              "domain\n",
              "enron.com    442340\n",
              "Name: TID, dtype: int64"
            ]
          },
          "metadata": {},
          "execution_count": 16
        }
      ]
    }
  ],
  "metadata": {
    "colab": {
      "provenance": [],
      "include_colab_link": true
    },
    "kernelspec": {
      "display_name": "Python 3 (ipykernel)",
      "language": "python",
      "name": "python3"
    },
    "language_info": {
      "codemirror_mode": {
        "name": "ipython",
        "version": 3
      },
      "file_extension": ".py",
      "mimetype": "text/x-python",
      "name": "python",
      "nbconvert_exporter": "python",
      "pygments_lexer": "ipython3",
      "version": "3.9.12"
    }
  },
  "nbformat": 4,
  "nbformat_minor": 0
}